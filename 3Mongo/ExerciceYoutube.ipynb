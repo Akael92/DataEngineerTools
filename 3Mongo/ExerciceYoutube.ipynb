{
 "cells": [
  {
   "cell_type": "markdown",
   "metadata": {},
   "source": [
    "# Consignes\n",
    "\n",
    "Intégrer le fichier USvideos.csv qui représente un ensemble de 8000 vidéos Youtube. \n",
    "\n",
    "Merger le fichier US_category_id.json pour récupérer le nom des catégories. Il conviendra de bien spécifier l'ID du document.\n",
    "\n",
    "\n",
    "# Questions \n",
    "- 1) Récupérer toutes les vidéos de la chaîne Apple.\n",
    "- 2) Compter le nombre de catégories différentes\n",
    "- 3) Si vous ne l'avez pas déjà fait, découper les tags en listes et mettre à jour les tags de chacun des documents avec une requête update.\n",
    "- 4) Récupérer les vidéos les plus vues.\n",
    "- 5) Compter le nombre moyen de vues en fonction de la catégorie.\n",
    "- 6) Récupérer les chaines Youtube avec la plus grande moyenne de likes."
   ]
  },
  {
   "cell_type": "code",
   "execution_count": 14,
   "metadata": {},
   "outputs": [],
   "source": [
    "import pandas as pd\n",
    "import pymongo"
   ]
  },
  {
   "cell_type": "code",
   "execution_count": 15,
   "metadata": {},
   "outputs": [],
   "source": [
    "client = pymongo.MongoClient('mongo')\n",
    "database = client['exercices']\n",
    "collection = database['youtube']"
   ]
  },
  {
   "cell_type": "code",
   "execution_count": 16,
   "metadata": {},
   "outputs": [
    {
     "data": {
      "text/html": [
       "<div>\n",
       "<style scoped>\n",
       "    .dataframe tbody tr th:only-of-type {\n",
       "        vertical-align: middle;\n",
       "    }\n",
       "\n",
       "    .dataframe tbody tr th {\n",
       "        vertical-align: top;\n",
       "    }\n",
       "\n",
       "    .dataframe thead th {\n",
       "        text-align: right;\n",
       "    }\n",
       "</style>\n",
       "<table border=\"1\" class=\"dataframe\">\n",
       "  <thead>\n",
       "    <tr style=\"text-align: right;\">\n",
       "      <th></th>\n",
       "      <th>video_id</th>\n",
       "      <th>title</th>\n",
       "      <th>channel_title</th>\n",
       "      <th>category_id</th>\n",
       "      <th>tags</th>\n",
       "      <th>views</th>\n",
       "      <th>likes</th>\n",
       "      <th>dislikes</th>\n",
       "      <th>comment_total</th>\n",
       "      <th>thumbnail_link</th>\n",
       "      <th>date</th>\n",
       "    </tr>\n",
       "  </thead>\n",
       "  <tbody>\n",
       "    <tr>\n",
       "      <th>0</th>\n",
       "      <td>XpVt6Z1Gjjo</td>\n",
       "      <td>1 YEAR OF VLOGGING -- HOW LOGAN PAUL CHANGED Y...</td>\n",
       "      <td>Logan Paul Vlogs</td>\n",
       "      <td>24</td>\n",
       "      <td>logan paul vlog|logan paul|logan|paul|olympics...</td>\n",
       "      <td>4394029</td>\n",
       "      <td>320053</td>\n",
       "      <td>5931</td>\n",
       "      <td>46245</td>\n",
       "      <td>https://i.ytimg.com/vi/XpVt6Z1Gjjo/default.jpg</td>\n",
       "      <td>13.09</td>\n",
       "    </tr>\n",
       "    <tr>\n",
       "      <th>1</th>\n",
       "      <td>K4wEI5zhHB0</td>\n",
       "      <td>iPhone X — Introducing iPhone X — Apple</td>\n",
       "      <td>Apple</td>\n",
       "      <td>28</td>\n",
       "      <td>Apple|iPhone 10|iPhone Ten|iPhone|Portrait Lig...</td>\n",
       "      <td>7860119</td>\n",
       "      <td>185853</td>\n",
       "      <td>26679</td>\n",
       "      <td>0</td>\n",
       "      <td>https://i.ytimg.com/vi/K4wEI5zhHB0/default.jpg</td>\n",
       "      <td>13.09</td>\n",
       "    </tr>\n",
       "  </tbody>\n",
       "</table>\n",
       "</div>"
      ],
      "text/plain": [
       "      video_id                                              title  \\\n",
       "0  XpVt6Z1Gjjo  1 YEAR OF VLOGGING -- HOW LOGAN PAUL CHANGED Y...   \n",
       "1  K4wEI5zhHB0            iPhone X — Introducing iPhone X — Apple   \n",
       "\n",
       "      channel_title  category_id  \\\n",
       "0  Logan Paul Vlogs           24   \n",
       "1             Apple           28   \n",
       "\n",
       "                                                tags    views   likes  \\\n",
       "0  logan paul vlog|logan paul|logan|paul|olympics...  4394029  320053   \n",
       "1  Apple|iPhone 10|iPhone Ten|iPhone|Portrait Lig...  7860119  185853   \n",
       "\n",
       "   dislikes  comment_total                                  thumbnail_link  \\\n",
       "0      5931          46245  https://i.ytimg.com/vi/XpVt6Z1Gjjo/default.jpg   \n",
       "1     26679              0  https://i.ytimg.com/vi/K4wEI5zhHB0/default.jpg   \n",
       "\n",
       "    date  \n",
       "0  13.09  \n",
       "1  13.09  "
      ]
     },
     "execution_count": 16,
     "metadata": {},
     "output_type": "execute_result"
    }
   ],
   "source": [
    "df_youtube = pd.read_csv(\"./data/USvideos.csv\")\n",
    "df_youtube.head(2)"
   ]
  },
  {
   "cell_type": "markdown",
   "metadata": {},
   "source": [
    "## Question 0"
   ]
  },
  {
   "cell_type": "markdown",
   "metadata": {},
   "source": [
    "### Netoyer les données"
   ]
  },
  {
   "cell_type": "code",
   "execution_count": 17,
   "metadata": {},
   "outputs": [],
   "source": [
    "df_youtube['date'] = pd.to_datetime(df_youtube['date'], errors='coerce')\n",
    "df_youtube = df_youtube.dropna(subset=['date'])\n",
    "\n",
    "\n",
    "df_youtube.rename(columns={'video_id':'_id'}, inplace=True)\n",
    "\n",
    "df_youtube = df_youtube.drop_duplicates(subset='_id', keep='last')\n",
    "\n",
    "l_d =df_youtube.to_dict(orient='records')\n",
    "\n",
    "import json\n",
    "with open('./data/US_category_id.json', 'r') as f:\n",
    "    categ = json.load(f)\n",
    "\n",
    "for video in l_d:\n",
    "    for cat in categ['items']:\n",
    "        if video['category_id'] == int(cat['id']):\n",
    "            video['category_name'] = cat['snippet']['title']"
   ]
  },
  {
   "cell_type": "markdown",
   "metadata": {
    "slideshow": {
     "slide_type": "slide"
    }
   },
   "source": [
    "### Importer les données"
   ]
  },
  {
   "cell_type": "code",
   "execution_count": 18,
   "metadata": {},
   "outputs": [
    {
     "data": {
      "text/plain": [
       "<pymongo.results.InsertManyResult at 0x7f33202ea040>"
      ]
     },
     "execution_count": 18,
     "metadata": {},
     "output_type": "execute_result"
    }
   ],
   "source": [
    "collection.insert_many(l_d)"
   ]
  },
  {
   "cell_type": "markdown",
   "metadata": {},
   "source": [
    "## Question 1  "
   ]
  },
  {
   "cell_type": "code",
   "execution_count": 19,
   "metadata": {},
   "outputs": [
    {
     "data": {
      "text/plain": [
       "[{'_id': 'K4wEI5zhHB0',\n",
       "  'title': 'iPhone X — Introducing iPhone X — Apple',\n",
       "  'channel_title': 'Apple',\n",
       "  'category_id': 28,\n",
       "  'tags': 'Apple|iPhone 10|iPhone Ten|iPhone|Portrait Lighting|A11 Bionic|augmented reality|emoji|animoji|Face ID|Apple Pay|camera|smartphone',\n",
       "  'views': 19707391,\n",
       "  'likes': 381919,\n",
       "  'dislikes': 69465,\n",
       "  'comment_total': 0,\n",
       "  'thumbnail_link': 'https://i.ytimg.com/vi/K4wEI5zhHB0/default.jpg',\n",
       "  'date': datetime.datetime(1970, 1, 1, 0, 0),\n",
       "  'category_name': 'Science & Technology'},\n",
       " {'_id': 'A9k88sMyiJM',\n",
       "  'title': 'Apple Watch Series 3 + Apple Music — Roll — Apple',\n",
       "  'channel_title': 'Apple',\n",
       "  'category_id': 28,\n",
       "  'tags': 'Apple|airpods|apple watch|apple watch series 3|apple watch cellular|apple watch 4g|apple music|40 million songs on your wrist|apple skateboard ad|apple train station ad|apple roll ad|apple watch skateboard ad|apple watch train station ad|apple watch roll ad|airpods skateboard ad|airpods train station ad|airpods roll ad|apple music skateboard ad|apple music train station ad|apple music roll ad|misbehaving',\n",
       "  'views': 4112187,\n",
       "  'likes': 26609,\n",
       "  'dislikes': 8982,\n",
       "  'comment_total': 0,\n",
       "  'thumbnail_link': 'https://i.ytimg.com/vi/A9k88sMyiJM/default.jpg',\n",
       "  'date': datetime.datetime(1970, 1, 1, 0, 0),\n",
       "  'category_name': 'Science & Technology'},\n",
       " {'_id': 'REZl-ANYKKY',\n",
       "  'title': 'iPhone 8 Plus — Portraits of Her  — Apple',\n",
       "  'channel_title': 'Apple',\n",
       "  'category_id': 28,\n",
       "  'tags': 'Apple|new|iPhone|iPhone 8|iPhone 8 Plus|iOS 11|4.7-inch|5.5-inch|Portrait Lighting|Shot on iPhone|camera|iphonography|smartphone|This Strange Effect|The Shacks',\n",
       "  'views': 183325,\n",
       "  'likes': 1700,\n",
       "  'dislikes': 570,\n",
       "  'comment_total': 0,\n",
       "  'thumbnail_link': 'https://i.ytimg.com/vi/REZl-ANYKKY/default.jpg',\n",
       "  'date': datetime.datetime(1970, 1, 1, 0, 0),\n",
       "  'category_name': 'Science & Technology'}]"
      ]
     },
     "execution_count": 19,
     "metadata": {},
     "output_type": "execute_result"
    }
   ],
   "source": [
    "cur = collection.find({\"channel_title\":\"Apple\"})\n",
    "list(cur)"
   ]
  },
  {
   "cell_type": "markdown",
   "metadata": {},
   "source": [
    "## Question 2"
   ]
  },
  {
   "cell_type": "code",
   "execution_count": 21,
   "metadata": {},
   "outputs": [
    {
     "data": {
      "text/plain": [
       "16"
      ]
     },
     "execution_count": 21,
     "metadata": {},
     "output_type": "execute_result"
    }
   ],
   "source": [
    "len(collection.distinct('category_id'))"
   ]
  },
  {
   "cell_type": "markdown",
   "metadata": {},
   "source": [
    "## Question 3"
   ]
  },
  {
   "cell_type": "code",
   "execution_count": 22,
   "metadata": {
    "scrolled": true
   },
   "outputs": [
    {
     "name": "stderr",
     "output_type": "stream",
     "text": [
      "<ipython-input-22-f8581b0fdbb9>:1: DeprecationWarning: update is deprecated. Use replace_one, update_one or update_many instead.\n",
      "  cur = collection.update({},{'$split':[\"$tags\",\"|\"]})\n"
     ]
    },
    {
     "ename": "WriteError",
     "evalue": "Unknown modifier: $split. Expected a valid update modifier or pipeline-style update specified as an array, full error: {'index': 0, 'code': 9, 'errmsg': 'Unknown modifier: $split. Expected a valid update modifier or pipeline-style update specified as an array'}",
     "output_type": "error",
     "traceback": [
      "\u001b[0;31m---------------------------------------------------------------------------\u001b[0m",
      "\u001b[0;31mWriteError\u001b[0m                                Traceback (most recent call last)",
      "\u001b[0;32m<ipython-input-22-f8581b0fdbb9>\u001b[0m in \u001b[0;36m<module>\u001b[0;34m\u001b[0m\n\u001b[0;32m----> 1\u001b[0;31m \u001b[0mcur\u001b[0m \u001b[0;34m=\u001b[0m \u001b[0mcollection\u001b[0m\u001b[0;34m.\u001b[0m\u001b[0mupdate\u001b[0m\u001b[0;34m(\u001b[0m\u001b[0;34m{\u001b[0m\u001b[0;34m}\u001b[0m\u001b[0;34m,\u001b[0m\u001b[0;34m{\u001b[0m\u001b[0;34m'$split'\u001b[0m\u001b[0;34m:\u001b[0m\u001b[0;34m[\u001b[0m\u001b[0;34m\"$tags\"\u001b[0m\u001b[0;34m,\u001b[0m\u001b[0;34m\"|\"\u001b[0m\u001b[0;34m]\u001b[0m\u001b[0;34m}\u001b[0m\u001b[0;34m)\u001b[0m\u001b[0;34m\u001b[0m\u001b[0;34m\u001b[0m\u001b[0m\n\u001b[0m",
      "\u001b[0;32m~/.local/share/virtualenvs/code-AFz48Hjb/lib/python3.8/site-packages/pymongo/collection.py\u001b[0m in \u001b[0;36mupdate\u001b[0;34m(self, spec, document, upsert, manipulate, multi, check_keys, **kwargs)\u001b[0m\n\u001b[1;32m   3323\u001b[0m         \u001b[0;32mif\u001b[0m \u001b[0mkwargs\u001b[0m\u001b[0;34m:\u001b[0m\u001b[0;34m\u001b[0m\u001b[0;34m\u001b[0m\u001b[0m\n\u001b[1;32m   3324\u001b[0m             \u001b[0mwrite_concern\u001b[0m \u001b[0;34m=\u001b[0m \u001b[0mWriteConcern\u001b[0m\u001b[0;34m(\u001b[0m\u001b[0;34m**\u001b[0m\u001b[0mkwargs\u001b[0m\u001b[0;34m)\u001b[0m\u001b[0;34m\u001b[0m\u001b[0;34m\u001b[0m\u001b[0m\n\u001b[0;32m-> 3325\u001b[0;31m         return self._update_retryable(\n\u001b[0m\u001b[1;32m   3326\u001b[0m             \u001b[0mspec\u001b[0m\u001b[0;34m,\u001b[0m \u001b[0mdocument\u001b[0m\u001b[0;34m,\u001b[0m \u001b[0mupsert\u001b[0m\u001b[0;34m,\u001b[0m \u001b[0mcheck_keys\u001b[0m\u001b[0;34m,\u001b[0m \u001b[0mmulti\u001b[0m\u001b[0;34m,\u001b[0m \u001b[0mmanipulate\u001b[0m\u001b[0;34m,\u001b[0m\u001b[0;34m\u001b[0m\u001b[0;34m\u001b[0m\u001b[0m\n\u001b[1;32m   3327\u001b[0m             write_concern, collation=collation)\n",
      "\u001b[0;32m~/.local/share/virtualenvs/code-AFz48Hjb/lib/python3.8/site-packages/pymongo/collection.py\u001b[0m in \u001b[0;36m_update_retryable\u001b[0;34m(self, criteria, document, upsert, check_keys, multi, manipulate, write_concern, op_id, ordered, bypass_doc_val, collation, array_filters, hint, session)\u001b[0m\n\u001b[1;32m    866\u001b[0m                 retryable_write=retryable_write)\n\u001b[1;32m    867\u001b[0m \u001b[0;34m\u001b[0m\u001b[0m\n\u001b[0;32m--> 868\u001b[0;31m         return self.__database.client._retryable_write(\n\u001b[0m\u001b[1;32m    869\u001b[0m             \u001b[0;34m(\u001b[0m\u001b[0mwrite_concern\u001b[0m \u001b[0;32mor\u001b[0m \u001b[0mself\u001b[0m\u001b[0;34m.\u001b[0m\u001b[0mwrite_concern\u001b[0m\u001b[0;34m)\u001b[0m\u001b[0;34m.\u001b[0m\u001b[0macknowledged\u001b[0m \u001b[0;32mand\u001b[0m \u001b[0;32mnot\u001b[0m \u001b[0mmulti\u001b[0m\u001b[0;34m,\u001b[0m\u001b[0;34m\u001b[0m\u001b[0;34m\u001b[0m\u001b[0m\n\u001b[1;32m    870\u001b[0m             _update, session)\n",
      "\u001b[0;32m~/.local/share/virtualenvs/code-AFz48Hjb/lib/python3.8/site-packages/pymongo/mongo_client.py\u001b[0m in \u001b[0;36m_retryable_write\u001b[0;34m(self, retryable, func, session)\u001b[0m\n\u001b[1;32m   1496\u001b[0m         \u001b[0;34m\"\"\"Internal retryable write helper.\"\"\"\u001b[0m\u001b[0;34m\u001b[0m\u001b[0;34m\u001b[0m\u001b[0m\n\u001b[1;32m   1497\u001b[0m         \u001b[0;32mwith\u001b[0m \u001b[0mself\u001b[0m\u001b[0;34m.\u001b[0m\u001b[0m_tmp_session\u001b[0m\u001b[0;34m(\u001b[0m\u001b[0msession\u001b[0m\u001b[0;34m)\u001b[0m \u001b[0;32mas\u001b[0m \u001b[0ms\u001b[0m\u001b[0;34m:\u001b[0m\u001b[0;34m\u001b[0m\u001b[0;34m\u001b[0m\u001b[0m\n\u001b[0;32m-> 1498\u001b[0;31m             \u001b[0;32mreturn\u001b[0m \u001b[0mself\u001b[0m\u001b[0;34m.\u001b[0m\u001b[0m_retry_with_session\u001b[0m\u001b[0;34m(\u001b[0m\u001b[0mretryable\u001b[0m\u001b[0;34m,\u001b[0m \u001b[0mfunc\u001b[0m\u001b[0;34m,\u001b[0m \u001b[0ms\u001b[0m\u001b[0;34m,\u001b[0m \u001b[0;32mNone\u001b[0m\u001b[0;34m)\u001b[0m\u001b[0;34m\u001b[0m\u001b[0;34m\u001b[0m\u001b[0m\n\u001b[0m\u001b[1;32m   1499\u001b[0m \u001b[0;34m\u001b[0m\u001b[0m\n\u001b[1;32m   1500\u001b[0m     \u001b[0;32mdef\u001b[0m \u001b[0m_handle_getlasterror\u001b[0m\u001b[0;34m(\u001b[0m\u001b[0mself\u001b[0m\u001b[0;34m,\u001b[0m \u001b[0maddress\u001b[0m\u001b[0;34m,\u001b[0m \u001b[0merror_msg\u001b[0m\u001b[0;34m)\u001b[0m\u001b[0;34m:\u001b[0m\u001b[0;34m\u001b[0m\u001b[0;34m\u001b[0m\u001b[0m\n",
      "\u001b[0;32m~/.local/share/virtualenvs/code-AFz48Hjb/lib/python3.8/site-packages/pymongo/mongo_client.py\u001b[0m in \u001b[0;36m_retry_with_session\u001b[0;34m(self, retryable, func, session, bulk)\u001b[0m\n\u001b[1;32m   1382\u001b[0m         retryable = (retryable and self.retry_writes\n\u001b[1;32m   1383\u001b[0m                      and session and not session.in_transaction)\n\u001b[0;32m-> 1384\u001b[0;31m         \u001b[0;32mreturn\u001b[0m \u001b[0mself\u001b[0m\u001b[0;34m.\u001b[0m\u001b[0m_retry_internal\u001b[0m\u001b[0;34m(\u001b[0m\u001b[0mretryable\u001b[0m\u001b[0;34m,\u001b[0m \u001b[0mfunc\u001b[0m\u001b[0;34m,\u001b[0m \u001b[0msession\u001b[0m\u001b[0;34m,\u001b[0m \u001b[0mbulk\u001b[0m\u001b[0;34m)\u001b[0m\u001b[0;34m\u001b[0m\u001b[0;34m\u001b[0m\u001b[0m\n\u001b[0m\u001b[1;32m   1385\u001b[0m \u001b[0;34m\u001b[0m\u001b[0m\n\u001b[1;32m   1386\u001b[0m     \u001b[0;32mdef\u001b[0m \u001b[0m_retry_internal\u001b[0m\u001b[0;34m(\u001b[0m\u001b[0mself\u001b[0m\u001b[0;34m,\u001b[0m \u001b[0mretryable\u001b[0m\u001b[0;34m,\u001b[0m \u001b[0mfunc\u001b[0m\u001b[0;34m,\u001b[0m \u001b[0msession\u001b[0m\u001b[0;34m,\u001b[0m \u001b[0mbulk\u001b[0m\u001b[0;34m)\u001b[0m\u001b[0;34m:\u001b[0m\u001b[0;34m\u001b[0m\u001b[0;34m\u001b[0m\u001b[0m\n",
      "\u001b[0;32m~/.local/share/virtualenvs/code-AFz48Hjb/lib/python3.8/site-packages/pymongo/mongo_client.py\u001b[0m in \u001b[0;36m_retry_internal\u001b[0;34m(self, retryable, func, session, bulk)\u001b[0m\n\u001b[1;32m   1414\u001b[0m                             \u001b[0;32mraise\u001b[0m \u001b[0mlast_error\u001b[0m\u001b[0;34m\u001b[0m\u001b[0;34m\u001b[0m\u001b[0m\n\u001b[1;32m   1415\u001b[0m                         \u001b[0mretryable\u001b[0m \u001b[0;34m=\u001b[0m \u001b[0;32mFalse\u001b[0m\u001b[0;34m\u001b[0m\u001b[0;34m\u001b[0m\u001b[0m\n\u001b[0;32m-> 1416\u001b[0;31m                     \u001b[0;32mreturn\u001b[0m \u001b[0mfunc\u001b[0m\u001b[0;34m(\u001b[0m\u001b[0msession\u001b[0m\u001b[0;34m,\u001b[0m \u001b[0msock_info\u001b[0m\u001b[0;34m,\u001b[0m \u001b[0mretryable\u001b[0m\u001b[0;34m)\u001b[0m\u001b[0;34m\u001b[0m\u001b[0;34m\u001b[0m\u001b[0m\n\u001b[0m\u001b[1;32m   1417\u001b[0m             \u001b[0;32mexcept\u001b[0m \u001b[0mServerSelectionTimeoutError\u001b[0m\u001b[0;34m:\u001b[0m\u001b[0;34m\u001b[0m\u001b[0;34m\u001b[0m\u001b[0m\n\u001b[1;32m   1418\u001b[0m                 \u001b[0;32mif\u001b[0m \u001b[0mis_retrying\u001b[0m\u001b[0;34m(\u001b[0m\u001b[0;34m)\u001b[0m\u001b[0;34m:\u001b[0m\u001b[0;34m\u001b[0m\u001b[0;34m\u001b[0m\u001b[0m\n",
      "\u001b[0;32m~/.local/share/virtualenvs/code-AFz48Hjb/lib/python3.8/site-packages/pymongo/collection.py\u001b[0m in \u001b[0;36m_update\u001b[0;34m(session, sock_info, retryable_write)\u001b[0m\n\u001b[1;32m    858\u001b[0m         \u001b[0;34m\"\"\"Internal update / replace helper.\"\"\"\u001b[0m\u001b[0;34m\u001b[0m\u001b[0;34m\u001b[0m\u001b[0m\n\u001b[1;32m    859\u001b[0m         \u001b[0;32mdef\u001b[0m \u001b[0m_update\u001b[0m\u001b[0;34m(\u001b[0m\u001b[0msession\u001b[0m\u001b[0;34m,\u001b[0m \u001b[0msock_info\u001b[0m\u001b[0;34m,\u001b[0m \u001b[0mretryable_write\u001b[0m\u001b[0;34m)\u001b[0m\u001b[0;34m:\u001b[0m\u001b[0;34m\u001b[0m\u001b[0;34m\u001b[0m\u001b[0m\n\u001b[0;32m--> 860\u001b[0;31m             return self._update(\n\u001b[0m\u001b[1;32m    861\u001b[0m                 \u001b[0msock_info\u001b[0m\u001b[0;34m,\u001b[0m \u001b[0mcriteria\u001b[0m\u001b[0;34m,\u001b[0m \u001b[0mdocument\u001b[0m\u001b[0;34m,\u001b[0m \u001b[0mupsert\u001b[0m\u001b[0;34m=\u001b[0m\u001b[0mupsert\u001b[0m\u001b[0;34m,\u001b[0m\u001b[0;34m\u001b[0m\u001b[0;34m\u001b[0m\u001b[0m\n\u001b[1;32m    862\u001b[0m                 \u001b[0mcheck_keys\u001b[0m\u001b[0;34m=\u001b[0m\u001b[0mcheck_keys\u001b[0m\u001b[0;34m,\u001b[0m \u001b[0mmulti\u001b[0m\u001b[0;34m=\u001b[0m\u001b[0mmulti\u001b[0m\u001b[0;34m,\u001b[0m \u001b[0mmanipulate\u001b[0m\u001b[0;34m=\u001b[0m\u001b[0mmanipulate\u001b[0m\u001b[0;34m,\u001b[0m\u001b[0;34m\u001b[0m\u001b[0;34m\u001b[0m\u001b[0m\n",
      "\u001b[0;32m~/.local/share/virtualenvs/code-AFz48Hjb/lib/python3.8/site-packages/pymongo/collection.py\u001b[0m in \u001b[0;36m_update\u001b[0;34m(self, sock_info, criteria, document, upsert, check_keys, multi, manipulate, write_concern, op_id, ordered, bypass_doc_val, collation, array_filters, hint, session, retryable_write)\u001b[0m\n\u001b[1;32m    835\u001b[0m             \u001b[0mclient\u001b[0m\u001b[0;34m=\u001b[0m\u001b[0mself\u001b[0m\u001b[0;34m.\u001b[0m\u001b[0m__database\u001b[0m\u001b[0;34m.\u001b[0m\u001b[0mclient\u001b[0m\u001b[0;34m,\u001b[0m\u001b[0;34m\u001b[0m\u001b[0;34m\u001b[0m\u001b[0m\n\u001b[1;32m    836\u001b[0m             retryable_write=retryable_write).copy()\n\u001b[0;32m--> 837\u001b[0;31m         \u001b[0m_check_write_command_response\u001b[0m\u001b[0;34m(\u001b[0m\u001b[0mresult\u001b[0m\u001b[0;34m)\u001b[0m\u001b[0;34m\u001b[0m\u001b[0;34m\u001b[0m\u001b[0m\n\u001b[0m\u001b[1;32m    838\u001b[0m         \u001b[0;31m# Add the updatedExisting field for compatibility.\u001b[0m\u001b[0;34m\u001b[0m\u001b[0;34m\u001b[0m\u001b[0;34m\u001b[0m\u001b[0m\n\u001b[1;32m    839\u001b[0m         \u001b[0;32mif\u001b[0m \u001b[0mresult\u001b[0m\u001b[0;34m.\u001b[0m\u001b[0mget\u001b[0m\u001b[0;34m(\u001b[0m\u001b[0;34m'n'\u001b[0m\u001b[0;34m)\u001b[0m \u001b[0;32mand\u001b[0m \u001b[0;34m'upserted'\u001b[0m \u001b[0;32mnot\u001b[0m \u001b[0;32min\u001b[0m \u001b[0mresult\u001b[0m\u001b[0;34m:\u001b[0m\u001b[0;34m\u001b[0m\u001b[0;34m\u001b[0m\u001b[0m\n",
      "\u001b[0;32m~/.local/share/virtualenvs/code-AFz48Hjb/lib/python3.8/site-packages/pymongo/helpers.py\u001b[0m in \u001b[0;36m_check_write_command_response\u001b[0;34m(result)\u001b[0m\n\u001b[1;32m    228\u001b[0m     \u001b[0mwrite_errors\u001b[0m \u001b[0;34m=\u001b[0m \u001b[0mresult\u001b[0m\u001b[0;34m.\u001b[0m\u001b[0mget\u001b[0m\u001b[0;34m(\u001b[0m\u001b[0;34m\"writeErrors\"\u001b[0m\u001b[0;34m)\u001b[0m\u001b[0;34m\u001b[0m\u001b[0;34m\u001b[0m\u001b[0m\n\u001b[1;32m    229\u001b[0m     \u001b[0;32mif\u001b[0m \u001b[0mwrite_errors\u001b[0m\u001b[0;34m:\u001b[0m\u001b[0;34m\u001b[0m\u001b[0;34m\u001b[0m\u001b[0m\n\u001b[0;32m--> 230\u001b[0;31m         \u001b[0m_raise_last_write_error\u001b[0m\u001b[0;34m(\u001b[0m\u001b[0mwrite_errors\u001b[0m\u001b[0;34m)\u001b[0m\u001b[0;34m\u001b[0m\u001b[0;34m\u001b[0m\u001b[0m\n\u001b[0m\u001b[1;32m    231\u001b[0m \u001b[0;34m\u001b[0m\u001b[0m\n\u001b[1;32m    232\u001b[0m     \u001b[0merror\u001b[0m \u001b[0;34m=\u001b[0m \u001b[0mresult\u001b[0m\u001b[0;34m.\u001b[0m\u001b[0mget\u001b[0m\u001b[0;34m(\u001b[0m\u001b[0;34m\"writeConcernError\"\u001b[0m\u001b[0;34m)\u001b[0m\u001b[0;34m\u001b[0m\u001b[0;34m\u001b[0m\u001b[0m\n",
      "\u001b[0;32m~/.local/share/virtualenvs/code-AFz48Hjb/lib/python3.8/site-packages/pymongo/helpers.py\u001b[0m in \u001b[0;36m_raise_last_write_error\u001b[0;34m(write_errors)\u001b[0m\n\u001b[1;32m    210\u001b[0m     \u001b[0;32mif\u001b[0m \u001b[0merror\u001b[0m\u001b[0;34m.\u001b[0m\u001b[0mget\u001b[0m\u001b[0;34m(\u001b[0m\u001b[0;34m\"code\"\u001b[0m\u001b[0;34m)\u001b[0m \u001b[0;34m==\u001b[0m \u001b[0;36m11000\u001b[0m\u001b[0;34m:\u001b[0m\u001b[0;34m\u001b[0m\u001b[0;34m\u001b[0m\u001b[0m\n\u001b[1;32m    211\u001b[0m         \u001b[0;32mraise\u001b[0m \u001b[0mDuplicateKeyError\u001b[0m\u001b[0;34m(\u001b[0m\u001b[0merror\u001b[0m\u001b[0;34m.\u001b[0m\u001b[0mget\u001b[0m\u001b[0;34m(\u001b[0m\u001b[0;34m\"errmsg\"\u001b[0m\u001b[0;34m)\u001b[0m\u001b[0;34m,\u001b[0m \u001b[0;36m11000\u001b[0m\u001b[0;34m,\u001b[0m \u001b[0merror\u001b[0m\u001b[0;34m)\u001b[0m\u001b[0;34m\u001b[0m\u001b[0;34m\u001b[0m\u001b[0m\n\u001b[0;32m--> 212\u001b[0;31m     \u001b[0;32mraise\u001b[0m \u001b[0mWriteError\u001b[0m\u001b[0;34m(\u001b[0m\u001b[0merror\u001b[0m\u001b[0;34m.\u001b[0m\u001b[0mget\u001b[0m\u001b[0;34m(\u001b[0m\u001b[0;34m\"errmsg\"\u001b[0m\u001b[0;34m)\u001b[0m\u001b[0;34m,\u001b[0m \u001b[0merror\u001b[0m\u001b[0;34m.\u001b[0m\u001b[0mget\u001b[0m\u001b[0;34m(\u001b[0m\u001b[0;34m\"code\"\u001b[0m\u001b[0;34m)\u001b[0m\u001b[0;34m,\u001b[0m \u001b[0merror\u001b[0m\u001b[0;34m)\u001b[0m\u001b[0;34m\u001b[0m\u001b[0;34m\u001b[0m\u001b[0m\n\u001b[0m\u001b[1;32m    213\u001b[0m \u001b[0;34m\u001b[0m\u001b[0m\n\u001b[1;32m    214\u001b[0m \u001b[0;34m\u001b[0m\u001b[0m\n",
      "\u001b[0;31mWriteError\u001b[0m: Unknown modifier: $split. Expected a valid update modifier or pipeline-style update specified as an array, full error: {'index': 0, 'code': 9, 'errmsg': 'Unknown modifier: $split. Expected a valid update modifier or pipeline-style update specified as an array'}"
     ]
    }
   ],
   "source": [
    "cur = collection.update({},{'$split':[\"$tags\",\"|\"]})"
   ]
  },
  {
   "cell_type": "markdown",
   "metadata": {},
   "source": [
    "## Question 4"
   ]
  },
  {
   "cell_type": "code",
   "execution_count": 23,
   "metadata": {},
   "outputs": [
    {
     "data": {
      "text/plain": [
       "[{'_id': 'MBdVXkSdhwU',\n",
       "  'title': \"BTS (방탄소년단) 'DNA' Official MV\",\n",
       "  'channel_title': 'ibighit',\n",
       "  'category_id': 10,\n",
       "  'tags': 'BIGHIT|빅히트|방탄소년단|BTS|BANGTAN|방탄',\n",
       "  'views': 41500672,\n",
       "  'likes': 2010366,\n",
       "  'dislikes': 78076,\n",
       "  'comment_total': 736179,\n",
       "  'thumbnail_link': 'https://i.ytimg.com/vi/MBdVXkSdhwU/default.jpg',\n",
       "  'date': datetime.datetime(1970, 1, 1, 0, 0),\n",
       "  'category_name': 'Music'},\n",
       " {'_id': 'tt2k8PGm-TI',\n",
       "  'title': 'ZAYN - Dusk Till Dawn ft. Sia',\n",
       "  'channel_title': 'ZaynVEVO',\n",
       "  'category_id': 10,\n",
       "  'tags': 'Dusk Till Dawn|Pop|RCA Records Label|ZAYN feat. Sia',\n",
       "  'views': 36323498,\n",
       "  'likes': 1431683,\n",
       "  'dislikes': 28049,\n",
       "  'comment_total': 100661,\n",
       "  'thumbnail_link': 'https://i.ytimg.com/vi/tt2k8PGm-TI/default.jpg',\n",
       "  'date': datetime.datetime(1970, 1, 1, 0, 0),\n",
       "  'category_name': 'Music'},\n",
       " {'_id': 'LunHybOKIjU',\n",
       "  'title': 'Eminem Rips Donald Trump In BET Hip Hop Awards Freestyle Cypher',\n",
       "  'channel_title': 'BETNetworks',\n",
       "  'category_id': 24,\n",
       "  'tags': 'BET|BET Networks|BET Music|Black Entertainment Television|eminem|freestyle|full|hip hop awards|hip hop awards 2017|bet hip hop awards|donald trump|potus|full freestyle|EMINEM TRUMP|TRUMP TWITTER|trump tweet|trump nfl|eminem bet cypher|bet cypher|eminem freestyle|8 mile|eminem new album|trump diss|eminem trump diss',\n",
       "  'views': 33191594,\n",
       "  'likes': 982842,\n",
       "  'dislikes': 184310,\n",
       "  'comment_total': 337603,\n",
       "  'thumbnail_link': 'https://i.ytimg.com/vi/LunHybOKIjU/default.jpg',\n",
       "  'date': datetime.datetime(1970, 1, 1, 0, 0),\n",
       "  'category_name': 'Entertainment'},\n",
       " {'_id': 'SHq2qrFUlGY',\n",
       "  'title': 'Shakira - Perro Fiel (Official Video) ft. Nicky Jam',\n",
       "  'channel_title': 'shakiraVEVO',\n",
       "  'category_id': 10,\n",
       "  'tags': 'Shakira ft. Nicky Jam|Shakira ft. Nicky Jam Music|Shakira ft. Nicky Jam Official Video|Shakira ft. Nicky Jam Video|Shakira ft. Nicky Jam Video Oficial|Perro Fiel Official Video|Official Video|Perro Fiel Single|Single|Shakira ft. Nicky Jam New Single|Shakira ft. Nicky Jam Single|Shakira ft. Nicky Jam Song|Perro Fiel new song|Perro Fiel nueva canción|Shakira ft. Nicky Jam nuevo sencillo|Shakira ft. Nicky Jam Perro Fiel|Latin Pop',\n",
       "  'views': 32136948,\n",
       "  'likes': 578266,\n",
       "  'dislikes': 43475,\n",
       "  'comment_total': 40071,\n",
       "  'thumbnail_link': 'https://i.ytimg.com/vi/SHq2qrFUlGY/default.jpg',\n",
       "  'date': datetime.datetime(1970, 1, 1, 0, 0),\n",
       "  'category_name': 'Music'},\n",
       " {'_id': 'Q0CbN8sfihY',\n",
       "  'title': 'Star Wars: The Last Jedi Trailer (Official)',\n",
       "  'channel_title': 'Star Wars',\n",
       "  'category_id': 24,\n",
       "  'tags': 'star wars|the last jedi|trailer|official trailer|rey|kylo ren|luke skywalker|movies|film|star wars VIII|star wars the last jedi|rian johnson|daisy ridley|john boyega|adam driver|carrie fisher|mark hamill|episode 8|episode viii',\n",
       "  'views': 27909589,\n",
       "  'likes': 631087,\n",
       "  'dislikes': 22177,\n",
       "  'comment_total': 101673,\n",
       "  'thumbnail_link': 'https://i.ytimg.com/vi/Q0CbN8sfihY/default.jpg',\n",
       "  'date': datetime.datetime(1970, 1, 1, 0, 0),\n",
       "  'category_name': 'Entertainment'},\n",
       " {'_id': 'K4wEI5zhHB0',\n",
       "  'title': 'iPhone X — Introducing iPhone X — Apple',\n",
       "  'channel_title': 'Apple',\n",
       "  'category_id': 28,\n",
       "  'tags': 'Apple|iPhone 10|iPhone Ten|iPhone|Portrait Lighting|A11 Bionic|augmented reality|emoji|animoji|Face ID|Apple Pay|camera|smartphone',\n",
       "  'views': 19707391,\n",
       "  'likes': 381919,\n",
       "  'dislikes': 69465,\n",
       "  'comment_total': 0,\n",
       "  'thumbnail_link': 'https://i.ytimg.com/vi/K4wEI5zhHB0/default.jpg',\n",
       "  'date': datetime.datetime(1970, 1, 1, 0, 0),\n",
       "  'category_name': 'Science & Technology'},\n",
       " {'_id': 'r9-DM9uBtVI',\n",
       "  'title': 'JUSTICE LEAGUE - Official Heroes Trailer',\n",
       "  'channel_title': 'Warner Bros. Pictures',\n",
       "  'category_id': 24,\n",
       "  'tags': 'justice league|justice league movie|batman|wonder woman|cyborg|the flash|aquaman|dc comics|comics|superheros|dc entertainment|jason momoa|zack snyder|gal gadot|ben affleck|ray fisher|ezra miller|warner bros pictures|wb pictures',\n",
       "  'views': 19194567,\n",
       "  'likes': 298938,\n",
       "  'dislikes': 16124,\n",
       "  'comment_total': 56329,\n",
       "  'thumbnail_link': 'https://i.ytimg.com/vi/r9-DM9uBtVI/default.jpg',\n",
       "  'date': datetime.datetime(1970, 1, 1, 0, 0),\n",
       "  'category_name': 'Entertainment'},\n",
       " {'_id': '3y5A4paFOb4',\n",
       "  'title': 'Logan Paul - Outta My Hair [Official Music Video]',\n",
       "  'channel_title': 'Logan Paul Vlogs',\n",
       "  'category_id': 24,\n",
       "  'tags': 'logan paul vlog|logan paul|logan|paul|olympics|logan paul youtube|vlog|daily|comedy|hollywood|parrot|maverick|bird|maverick clothes|logan paul song|out of my hair|outa my hair|out of my hair song|logan paul music|bella thorne|logan paul bella thorne|bella thorne song|bella thorne hair|hair song|out of hair|out of hair song|music video|music videos|bella thorne music',\n",
       "  'views': 18809766,\n",
       "  'likes': 1075133,\n",
       "  'dislikes': 107386,\n",
       "  'comment_total': 143156,\n",
       "  'thumbnail_link': 'https://i.ytimg.com/vi/3y5A4paFOb4/default.jpg',\n",
       "  'date': datetime.datetime(1970, 1, 1, 0, 0),\n",
       "  'category_name': 'Entertainment'},\n",
       " {'_id': 'GO6qs83CHpc',\n",
       "  'title': \"Sneaky toddler steals Prince Harry's popcorn\",\n",
       "  'channel_title': 'The Royal Family Channel',\n",
       "  'category_id': 25,\n",
       "  'tags': 'prince harry|popcorn|poacher|girl|emily henson|toddler|two-year-old|child|royal|invictus games|kid steals popcorn|prince harry popcorn|girl steals popcorn',\n",
       "  'views': 15952413,\n",
       "  'likes': 61765,\n",
       "  'dislikes': 7112,\n",
       "  'comment_total': 6799,\n",
       "  'thumbnail_link': 'https://i.ytimg.com/vi/GO6qs83CHpc/default.jpg',\n",
       "  'date': datetime.datetime(1970, 1, 1, 0, 0),\n",
       "  'category_name': 'News & Politics'},\n",
       " {'_id': 'D59v74k5flU',\n",
       "  'title': 'Primitive Technology: Mud Bricks',\n",
       "  'channel_title': 'Primitive Technology',\n",
       "  'category_id': 22,\n",
       "  'tags': '[none]',\n",
       "  'views': 15579127,\n",
       "  'likes': 348653,\n",
       "  'dislikes': 8496,\n",
       "  'comment_total': 36857,\n",
       "  'thumbnail_link': 'https://i.ytimg.com/vi/D59v74k5flU/default.jpg',\n",
       "  'date': datetime.datetime(1970, 1, 1, 0, 0),\n",
       "  'category_name': 'People & Blogs'},\n",
       " {'_id': 'FSOxXsYVJMQ',\n",
       "  'title': \"BTS (방탄소년단) 'DNA' Official Teaser 1\",\n",
       "  'channel_title': 'ibighit',\n",
       "  'category_id': 10,\n",
       "  'tags': 'BIGHIT|빅히트|방탄소년단|BTS|BANGTAN|방탄',\n",
       "  'views': 15035822,\n",
       "  'likes': 1056548,\n",
       "  'dislikes': 12656,\n",
       "  'comment_total': 161642,\n",
       "  'thumbnail_link': 'https://i.ytimg.com/vi/FSOxXsYVJMQ/default.jpg',\n",
       "  'date': datetime.datetime(1970, 1, 1, 0, 0),\n",
       "  'category_name': 'Music'},\n",
       " {'_id': '5ggZ9jIHnr8',\n",
       "  'title': 'Alesso & Anitta - Is That For Me (Official Music Video)',\n",
       "  'channel_title': 'Alesso',\n",
       "  'category_id': 10,\n",
       "  'tags': 'alesso anitta is that for me official music video|alesso|anitta|is|that|for|me|official|music|video|anitta alesso isthaforme prores|alesso big slap festival 2017|Alesso & Anitta - Is That For Me (Official Music Video)|edm|edm drops',\n",
       "  'views': 14849524,\n",
       "  'likes': 618436,\n",
       "  'dislikes': 108966,\n",
       "  'comment_total': 84942,\n",
       "  'thumbnail_link': 'https://i.ytimg.com/vi/5ggZ9jIHnr8/default.jpg',\n",
       "  'date': datetime.datetime(1970, 1, 1, 0, 0),\n",
       "  'category_name': 'Music'},\n",
       " {'_id': 'J_ub7Etch2U',\n",
       "  'title': 'Sam Smith - Too Good At Goodbyes (Official Video)',\n",
       "  'channel_title': 'SamSmithWorldVEVO',\n",
       "  'category_id': 10,\n",
       "  'tags': 'Sam|Smith|Too|Good|At|Goodbyes|Capitol|Pop|sam smith|sam smith album|sam smith live|sam smith lyrics|sam smith songs|sam smith stay with me|stay with me|too good at goodbyes',\n",
       "  'views': 14077967,\n",
       "  'likes': 452820,\n",
       "  'dislikes': 9551,\n",
       "  'comment_total': 21059,\n",
       "  'thumbnail_link': 'https://i.ytimg.com/vi/J_ub7Etch2U/default.jpg',\n",
       "  'date': datetime.datetime(1970, 1, 1, 0, 0),\n",
       "  'category_name': 'Music'},\n",
       " {'_id': 'dA5qYrboTUE',\n",
       "  'title': 'Live footage as Hurricane Irma destroys Maho Beach Cam in St Maarten   9/6/2017',\n",
       "  'channel_title': 'PTZtv',\n",
       "  'category_id': 25,\n",
       "  'tags': 'Hurricane Irma|St Maarten|Maho Beach',\n",
       "  'views': 13752002,\n",
       "  'likes': 46101,\n",
       "  'dislikes': 4898,\n",
       "  'comment_total': 0,\n",
       "  'thumbnail_link': 'https://i.ytimg.com/vi/dA5qYrboTUE/default.jpg',\n",
       "  'date': datetime.datetime(1970, 1, 1, 0, 0),\n",
       "  'category_name': 'News & Politics'},\n",
       " {'_id': 't2oVUxTV4WA',\n",
       "  'title': 'Celebrities Read Mean Tweets #11',\n",
       "  'channel_title': 'Jimmy Kimmel Live',\n",
       "  'category_id': 23,\n",
       "  'tags': 'jimmy|jimmy kimmel|jimmy kimmel live|late night|talk show|funny|comedic|comedy|clip|comedian|mean tweets|Gal Gadot|Emma Watson|Jake Gyllenhaal|Elisabeth Moss|John Lithgow|Dave Chappelle|Jeffrey Tambor|Gwyneth Paltrow|Jennifer Aniston|Jim Parsons|Nikolaj Coster-Waldau|Jennifer Lawrence|Kristen Bell|Bob Odenkirk|Michael Keaton|Alec Baldwin|Kumail Nanjiani|wonder woman|donald trump',\n",
       "  'views': 13740234,\n",
       "  'likes': 199814,\n",
       "  'dislikes': 7276,\n",
       "  'comment_total': 14057,\n",
       "  'thumbnail_link': 'https://i.ytimg.com/vi/t2oVUxTV4WA/default.jpg',\n",
       "  'date': datetime.datetime(1970, 1, 1, 0, 0),\n",
       "  'category_name': 'Comedy'},\n",
       " {'_id': 'AX8-YzMKZhQ',\n",
       "  'title': 'Sam Smith - Too Good At Goodbyes (Official Audio)',\n",
       "  'channel_title': 'SamSmithWorldVEVO',\n",
       "  'category_id': 10,\n",
       "  'tags': 'sam smith|too good at goodbyes|audio|new single|official',\n",
       "  'views': 13728070,\n",
       "  'likes': 468636,\n",
       "  'dislikes': 6597,\n",
       "  'comment_total': 20989,\n",
       "  'thumbnail_link': 'https://i.ytimg.com/vi/AX8-YzMKZhQ/default.jpg',\n",
       "  'date': datetime.datetime(1970, 1, 1, 0, 0),\n",
       "  'category_name': 'Music'},\n",
       " {'_id': 'LcZ2AuvxXNA',\n",
       "  'title': 'Nerf Bow Trick Shots | Dude Perfect',\n",
       "  'channel_title': 'Dude Perfect',\n",
       "  'category_id': 17,\n",
       "  'tags': 'dude perfect|dude perfect stereotypes|dude perfect water bottle flip|bottle flip|water bottle flip|dude perfect bottle flip|dude perfect basketball|dp|dude perfect world record|edition|nerf|trick shots|trick shot|family|ping pong|bowling|clean|family friendly|bubble wrap|soccer|football|spinner|spinners|fidget spinners|dude|bow|arrow|archery|toy|target|moving|bottle|bust|crossbow|bow and arrow|kids|archery trick shots',\n",
       "  'views': 13686054,\n",
       "  'likes': 432783,\n",
       "  'dislikes': 9367,\n",
       "  'comment_total': 21853,\n",
       "  'thumbnail_link': 'https://i.ytimg.com/vi/LcZ2AuvxXNA/default.jpg',\n",
       "  'date': datetime.datetime(1970, 1, 1, 0, 0),\n",
       "  'category_name': 'Sports'},\n",
       " {'_id': 'APHgDFRpCi0',\n",
       "  'title': 'J Balvin, Willy William - Mi Gente featuring Beyoncé ft. Beyoncé',\n",
       "  'channel_title': 'jbalvinVEVO',\n",
       "  'category_id': 10,\n",
       "  'tags': 'Balvin|Willy|William|Mi|Gente|featuring|Beyoncé|EMI|Latin|(LAT)|Latino|Beyonce|Cristiano Ronaldo|Llane Piso|Malu Trevejo|Neymar|Annita|Gianluca Vacchi|Yandel|David Guetta|Martin Garrix|DanceOn|Dj Pope|Diplo|Offical Video|Video Oficial|J Balvin|Mi Gente Remix|Tiesto|Cedric Gervais|Steve Aoki|Bad Bunny|Magga Braco|Jesse & Joy|Lele Pons|Silvestre dangond|Dj Luian|Matt Steffanina|Jean Rodriguez|36',\n",
       "  'views': 13077467,\n",
       "  'likes': 430513,\n",
       "  'dislikes': 22775,\n",
       "  'comment_total': 33386,\n",
       "  'thumbnail_link': 'https://i.ytimg.com/vi/APHgDFRpCi0/default.jpg',\n",
       "  'date': datetime.datetime(1970, 1, 1, 0, 0),\n",
       "  'category_name': 'Music'},\n",
       " {'_id': '1NyMSWqIJDQ',\n",
       "  'title': 'Danielle Bregoli is BHAD BHABIE “Hi Bich / Whachu Know” (Official Music Video)',\n",
       "  'channel_title': 'Bhad Bhabie',\n",
       "  'category_id': 10,\n",
       "  'tags': 'danielle bregoli|cash me ousside|cash me outside|dr phil|how bow dah|bhad bhabie|cashmeousside|hi bich|hi bitch|what you know|watch now|heaux|these heaux|these hoes|hi bich music video|hi bitch music video|horse music video|danielle bregoli these heaux|Danielle Bregoli song|these heaux 2017|these hoes 2017|music|new music|hip hop|whit horse|white porsche song|hi bich song|hi bich video|hi bitch video|new danielle bregoli|whachu know',\n",
       "  'views': 12115465,\n",
       "  'likes': 379224,\n",
       "  'dislikes': 135925,\n",
       "  'comment_total': 66509,\n",
       "  'thumbnail_link': 'https://i.ytimg.com/vi/1NyMSWqIJDQ/default.jpg',\n",
       "  'date': datetime.datetime(1970, 1, 1, 0, 0),\n",
       "  'category_name': 'Music'},\n",
       " {'_id': 'gOsM-DYAEhY',\n",
       "  'title': 'Imagine Dragons - Whatever It Takes',\n",
       "  'channel_title': 'ImagineDragonsVEVO',\n",
       "  'category_id': 10,\n",
       "  'tags': 'Imagine Dragons|ImagineDragons|Whatever It Takes|Imagine Dragons Evolve|Dragons Evolve|Believer|Thunder|Dragons Believer|Dragons Thunder|Night Visions|Smoke + Mirrors|On Top Of The World|Radioactive|Demons|I Bet My Life|Dan Reynolds|Matt Eastin|Imagine|Dragons|Whatever|It|Takes|KIDinaKORNER/Interscope|Records|Alternative',\n",
       "  'views': 11985474,\n",
       "  'likes': 611911,\n",
       "  'dislikes': 5252,\n",
       "  'comment_total': 28308,\n",
       "  'thumbnail_link': 'https://i.ytimg.com/vi/gOsM-DYAEhY/default.jpg',\n",
       "  'date': datetime.datetime(1970, 1, 1, 0, 0),\n",
       "  'category_name': 'Music'}]"
      ]
     },
     "execution_count": 23,
     "metadata": {},
     "output_type": "execute_result"
    }
   ],
   "source": [
    "cur = collection.find().sort(\"views\", -1).limit(20)\n",
    "list(cur)"
   ]
  },
  {
   "cell_type": "markdown",
   "metadata": {},
   "source": [
    "## Question 5"
   ]
  },
  {
   "cell_type": "code",
   "execution_count": 20,
   "metadata": {},
   "outputs": [
    {
     "data": {
      "text/plain": [
       "[{'_id': 19, 'averageAgeByviews': 426492.22222222225},\n",
       " {'_id': 23, 'averageAgeByviews': 1317200.7289719626},\n",
       " {'_id': 2, 'averageAgeByviews': 622727.8648648649},\n",
       " {'_id': 1, 'averageAgeByviews': 966547.2871287129},\n",
       " {'_id': 22, 'averageAgeByviews': 892992.28515625},\n",
       " {'_id': 24, 'averageAgeByviews': 1059427.7735849055},\n",
       " {'_id': 28, 'averageAgeByviews': 861563.6158940397},\n",
       " {'_id': 15, 'averageAgeByviews': 633906.4210526316},\n",
       " {'_id': 20, 'averageAgeByviews': 777213.0357142857},\n",
       " {'_id': 26, 'averageAgeByviews': 556002.6679389313},\n",
       " {'_id': 17, 'averageAgeByviews': 618074.711409396},\n",
       " {'_id': 43, 'averageAgeByviews': 8726.0},\n",
       " {'_id': 27, 'averageAgeByviews': 550585.2659574468},\n",
       " {'_id': 29, 'averageAgeByviews': 681178.2},\n",
       " {'_id': 10, 'averageAgeByviews': 1442240.943283582},\n",
       " {'_id': 25, 'averageAgeByviews': 533575.1262626263}]"
      ]
     },
     "execution_count": 20,
     "metadata": {},
     "output_type": "execute_result"
    }
   ],
   "source": [
    "cur = collection.aggregate([{\"$group\" : {\"_id\":\"$category_id\",\"averageAgeByviews\" : {\"$avg\" :\"$views\"}}}])\n",
    "list(cur)"
   ]
  },
  {
   "cell_type": "markdown",
   "metadata": {},
   "source": [
    "## Question 6 "
   ]
  },
  {
   "cell_type": "code",
   "execution_count": 24,
   "metadata": {},
   "outputs": [
    {
     "data": {
      "text/plain": [
       "[{'_id': 'ZaynVEVO', 'averageAgeByviews': 36323498.0},\n",
       " {'_id': 'BETNetworks', 'averageAgeByviews': 33191594.0},\n",
       " {'_id': 'shakiraVEVO', 'averageAgeByviews': 32136948.0},\n",
       " {'_id': 'ibighit', 'averageAgeByviews': 28268247.0},\n",
       " {'_id': 'Primitive Technology', 'averageAgeByviews': 15579127.0},\n",
       " {'_id': 'Alesso', 'averageAgeByviews': 14849524.0},\n",
       " {'_id': 'PTZtv', 'averageAgeByviews': 13752002.0},\n",
       " {'_id': 'jbalvinVEVO', 'averageAgeByviews': 13077467.0},\n",
       " {'_id': 'Logan Paul Vlogs', 'averageAgeByviews': 12521142.0},\n",
       " {'_id': 'Dude Perfect', 'averageAgeByviews': 12158903.5}]"
      ]
     },
     "execution_count": 24,
     "metadata": {},
     "output_type": "execute_result"
    }
   ],
   "source": [
    "cur = collection.aggregate([{\"$group\" : {\"_id\" : \"$channel_title\", \"averageAgeByLikes\" : {\"$avg\" : \"$likes\"}}},{\"$sort\":{\"averageAgeByviews\": -1}},{\"$limit\":10}])\n",
    "list(cur)"
   ]
  },
  {
   "cell_type": "code",
   "execution_count": null,
   "metadata": {},
   "outputs": [],
   "source": []
  }
 ],
 "metadata": {
  "kernelspec": {
   "display_name": "Python 3",
   "language": "python",
   "name": "python3"
  },
  "language_info": {
   "codemirror_mode": {
    "name": "ipython",
    "version": 3
   },
   "file_extension": ".py",
   "mimetype": "text/x-python",
   "name": "python",
   "nbconvert_exporter": "python",
   "pygments_lexer": "ipython3",
   "version": "3.8.8"
  }
 },
 "nbformat": 4,
 "nbformat_minor": 2
}
