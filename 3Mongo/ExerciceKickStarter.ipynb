{
 "cells": [
  {
   "cell_type": "markdown",
   "metadata": {},
   "source": [
    "#  Consignes\n",
    "\n",
    "## Description\n",
    "\n",
    "Ouvrir le fichier ks-projects-201801.csv, il recense environ 100 000 projets KickStarter. Intégrer les données directement avec L'API Python dans une base de données Mongo. \n",
    "\n",
    "Il conviendra de bien spécifier manuellement l'ID du document. Pensez aussi à bien formatter le type des données pour profiter des méthodes implémentées par Mongo. L'ensemble de données n'est pas forcément nécessaire, c'est à vous de créer votre modèle de données.\n",
    "\n",
    "## Questions\n",
    "\n",
    "- 1) Récupérer les 5 projets ayant reçu le plus de promesse de dons.\n",
    "- 2) Compter le nombre de projets ayant atteint leur but.\n",
    "- 3) Compter le nombre de projets pour chaque catégorie.\n",
    "- 4) Compter le nombre de projets français ayant été instanciés avant 2016.\n",
    "- 5) Récupérer les projets américains ayant demandé plus de 200 000 dollars.\n",
    "- 6) Compter le nombre de projet ayant \"Sport\" dans leur nom"
   ]
  },
  {
   "cell_type": "code",
   "execution_count": 1,
   "metadata": {},
   "outputs": [],
   "source": [
    "import pandas as pd\n",
    "import pymongo"
   ]
  },
  {
   "cell_type": "code",
   "execution_count": 2,
   "metadata": {},
   "outputs": [],
   "source": [
    "client = pymongo.MongoClient('mongo')\n",
    "database = client['exercices']\n",
    "collection = database['kickstarter']"
   ]
  },
  {
   "cell_type": "code",
   "execution_count": 3,
   "metadata": {},
   "outputs": [
    {
     "name": "stderr",
     "output_type": "stream",
     "text": [
      "/root/.local/share/virtualenvs/code-AFz48Hjb/lib/python3.8/site-packages/IPython/core/interactiveshell.py:3165: DtypeWarning: Columns (6,8,10,12) have mixed types.Specify dtype option on import or set low_memory=False.\n",
      "  has_raised = await self.run_ast_nodes(code_ast.body, cell_name,\n"
     ]
    },
    {
     "data": {
      "text/html": [
       "<div>\n",
       "<style scoped>\n",
       "    .dataframe tbody tr th:only-of-type {\n",
       "        vertical-align: middle;\n",
       "    }\n",
       "\n",
       "    .dataframe tbody tr th {\n",
       "        vertical-align: top;\n",
       "    }\n",
       "\n",
       "    .dataframe thead th {\n",
       "        text-align: right;\n",
       "    }\n",
       "</style>\n",
       "<table border=\"1\" class=\"dataframe\">\n",
       "  <thead>\n",
       "    <tr style=\"text-align: right;\">\n",
       "      <th></th>\n",
       "      <th>ID</th>\n",
       "      <th>name</th>\n",
       "      <th>category</th>\n",
       "      <th>main_category</th>\n",
       "      <th>currency</th>\n",
       "      <th>deadline</th>\n",
       "      <th>goal</th>\n",
       "      <th>launched</th>\n",
       "      <th>pledged</th>\n",
       "      <th>state</th>\n",
       "      <th>backers</th>\n",
       "      <th>country</th>\n",
       "      <th>usd pledged</th>\n",
       "      <th>usd_pledged_real</th>\n",
       "    </tr>\n",
       "  </thead>\n",
       "  <tbody>\n",
       "    <tr>\n",
       "      <th>0</th>\n",
       "      <td>872782264</td>\n",
       "      <td>Scott Cooper's Solo CD \"A Leg Trick\" (Canceled)</td>\n",
       "      <td>Rock</td>\n",
       "      <td>Music</td>\n",
       "      <td>USD</td>\n",
       "      <td>2011-09-16</td>\n",
       "      <td>2000</td>\n",
       "      <td>2011-08-17 06:31:31</td>\n",
       "      <td>1145</td>\n",
       "      <td>canceled</td>\n",
       "      <td>24</td>\n",
       "      <td>US</td>\n",
       "      <td>1145</td>\n",
       "      <td>1145.000000</td>\n",
       "    </tr>\n",
       "    <tr>\n",
       "      <th>1</th>\n",
       "      <td>1326492673</td>\n",
       "      <td>Ohceola jewelry</td>\n",
       "      <td>Fashion</td>\n",
       "      <td>Fashion</td>\n",
       "      <td>USD</td>\n",
       "      <td>2012-08-22</td>\n",
       "      <td>18000</td>\n",
       "      <td>2012-07-23 20:46:48</td>\n",
       "      <td>1851</td>\n",
       "      <td>failed</td>\n",
       "      <td>28</td>\n",
       "      <td>US</td>\n",
       "      <td>1851</td>\n",
       "      <td>1851.000000</td>\n",
       "    </tr>\n",
       "    <tr>\n",
       "      <th>2</th>\n",
       "      <td>1688410639</td>\n",
       "      <td>Sluff Off &amp; Harald: Two latest EGGs are Classi...</td>\n",
       "      <td>Tabletop Games</td>\n",
       "      <td>Games</td>\n",
       "      <td>USD</td>\n",
       "      <td>2016-07-19</td>\n",
       "      <td>2000</td>\n",
       "      <td>2016-07-01 21:55:54</td>\n",
       "      <td>7534</td>\n",
       "      <td>successful</td>\n",
       "      <td>254</td>\n",
       "      <td>US</td>\n",
       "      <td>3796</td>\n",
       "      <td>7534.000000</td>\n",
       "    </tr>\n",
       "    <tr>\n",
       "      <th>3</th>\n",
       "      <td>156812982</td>\n",
       "      <td>SketchPlanner: Create and Plan- all in one bea...</td>\n",
       "      <td>Art Books</td>\n",
       "      <td>Publishing</td>\n",
       "      <td>USD</td>\n",
       "      <td>2017-09-27</td>\n",
       "      <td>13000</td>\n",
       "      <td>2017-08-28 15:47:02</td>\n",
       "      <td>16298</td>\n",
       "      <td>successful</td>\n",
       "      <td>367</td>\n",
       "      <td>US</td>\n",
       "      <td>2670</td>\n",
       "      <td>16298.000000</td>\n",
       "    </tr>\n",
       "    <tr>\n",
       "      <th>4</th>\n",
       "      <td>1835968190</td>\n",
       "      <td>Proven sales with custom motorcycle accessories</td>\n",
       "      <td>Sculpture</td>\n",
       "      <td>Art</td>\n",
       "      <td>CAD</td>\n",
       "      <td>2016-02-24</td>\n",
       "      <td>5000</td>\n",
       "      <td>2016-01-25 17:37:10</td>\n",
       "      <td>1</td>\n",
       "      <td>failed</td>\n",
       "      <td>1</td>\n",
       "      <td>CA</td>\n",
       "      <td>0.708148</td>\n",
       "      <td>0.738225</td>\n",
       "    </tr>\n",
       "  </tbody>\n",
       "</table>\n",
       "</div>"
      ],
      "text/plain": [
       "           ID                                               name  \\\n",
       "0   872782264    Scott Cooper's Solo CD \"A Leg Trick\" (Canceled)   \n",
       "1  1326492673                                    Ohceola jewelry   \n",
       "2  1688410639  Sluff Off & Harald: Two latest EGGs are Classi...   \n",
       "3   156812982  SketchPlanner: Create and Plan- all in one bea...   \n",
       "4  1835968190    Proven sales with custom motorcycle accessories   \n",
       "\n",
       "         category main_category currency    deadline   goal  \\\n",
       "0            Rock         Music      USD  2011-09-16   2000   \n",
       "1         Fashion       Fashion      USD  2012-08-22  18000   \n",
       "2  Tabletop Games         Games      USD  2016-07-19   2000   \n",
       "3       Art Books    Publishing      USD  2017-09-27  13000   \n",
       "4       Sculpture           Art      CAD  2016-02-24   5000   \n",
       "\n",
       "              launched pledged       state backers country usd pledged  \\\n",
       "0  2011-08-17 06:31:31    1145    canceled      24      US        1145   \n",
       "1  2012-07-23 20:46:48    1851      failed      28      US        1851   \n",
       "2  2016-07-01 21:55:54    7534  successful     254      US        3796   \n",
       "3  2017-08-28 15:47:02   16298  successful     367      US        2670   \n",
       "4  2016-01-25 17:37:10       1      failed       1      CA    0.708148   \n",
       "\n",
       "   usd_pledged_real  \n",
       "0       1145.000000  \n",
       "1       1851.000000  \n",
       "2       7534.000000  \n",
       "3      16298.000000  \n",
       "4          0.738225  "
      ]
     },
     "execution_count": 3,
     "metadata": {},
     "output_type": "execute_result"
    }
   ],
   "source": [
    "df_ks = pd.read_csv(\"./data/ks-projects-201801-sample.csv\")\n",
    "df_ks.head()"
   ]
  },
  {
   "cell_type": "markdown",
   "metadata": {},
   "source": [
    "Ce warning intervient lorsque pandas n'arrive pas à inférer le type de données. Il est sympa il précise les colones 6,8,10,12. "
   ]
  },
  {
   "cell_type": "code",
   "execution_count": 4,
   "metadata": {},
   "outputs": [
    {
     "data": {
      "text/plain": [
       "Index(['goal', 'pledged', 'backers', 'usd pledged'], dtype='object')"
      ]
     },
     "execution_count": 4,
     "metadata": {},
     "output_type": "execute_result"
    }
   ],
   "source": [
    "df_ks.columns[[6,8,10,12]]"
   ]
  },
  {
   "cell_type": "markdown",
   "metadata": {},
   "source": [
    "## Question 0"
   ]
  },
  {
   "cell_type": "markdown",
   "metadata": {},
   "source": [
    "### Netoyer les données"
   ]
  },
  {
   "cell_type": "code",
   "execution_count": 5,
   "metadata": {},
   "outputs": [],
   "source": [
    "df_ks['launched'] = pd.to_datetime(df_ks['launched'], errors='coerce')\n",
    "df_ks = df_ks.dropna(subset=['launched'])\n",
    "df_ks.rename(columns={'ID':'_id'}, inplace=True)\n",
    "\n",
    "l_d =df_ks.to_dict(orient='records')"
   ]
  },
  {
   "cell_type": "markdown",
   "metadata": {
    "slideshow": {
     "slide_type": "slide"
    }
   },
   "source": [
    "### Importer les données"
   ]
  },
  {
   "cell_type": "code",
   "execution_count": 6,
   "metadata": {},
   "outputs": [
    {
     "data": {
      "text/plain": [
       "<pymongo.results.InsertManyResult at 0x7f1b1cb87d00>"
      ]
     },
     "execution_count": 6,
     "metadata": {},
     "output_type": "execute_result"
    }
   ],
   "source": [
    "collection.insert_many(l_d)"
   ]
  },
  {
   "cell_type": "markdown",
   "metadata": {},
   "source": [
    "## Question 1  "
   ]
  },
  {
   "cell_type": "code",
   "execution_count": 7,
   "metadata": {
    "scrolled": true
   },
   "outputs": [
    {
     "data": {
      "text/plain": [
       "[{'_id': 218218259,\n",
       "  'name': 'True North ï¿½ Repurposed Sailcloth Products',\n",
       "  'category': 'Product Design',\n",
       "  'main_category': 'Design',\n",
       "  'currency': 'USD',\n",
       "  'deadline': '2016-06-14',\n",
       "  'goal': '7500.0',\n",
       "  'launched': datetime.datetime(2016, 5, 10, 15, 53, 56),\n",
       "  'pledged': '9996.0',\n",
       "  'state': 'successful',\n",
       "  'backers': '50',\n",
       "  'country': 'US',\n",
       "  'usd pledged': '9996.0',\n",
       "  'usd_pledged_real': 9996.0},\n",
       " {'_id': 1712352341,\n",
       "  'name': 'Scott Davis - Solo Record',\n",
       "  'category': 'Music',\n",
       "  'main_category': 'Music',\n",
       "  'currency': 'USD',\n",
       "  'deadline': '2014-11-22',\n",
       "  'goal': '8000.0',\n",
       "  'launched': datetime.datetime(2014, 10, 23, 20, 6, 37),\n",
       "  'pledged': '9995.0',\n",
       "  'state': 'undefined',\n",
       "  'backers': '0',\n",
       "  'country': 'N,0\"',\n",
       "  'usd pledged': nan,\n",
       "  'usd_pledged_real': 9995.0},\n",
       " {'_id': 1742823215,\n",
       "  'name': 'Polco: A Digital Platform for Better Civic Communication',\n",
       "  'category': 'Web',\n",
       "  'main_category': 'Technology',\n",
       "  'currency': 'USD',\n",
       "  'deadline': '2017-08-11',\n",
       "  'goal': '35000.0',\n",
       "  'launched': datetime.datetime(2017, 6, 27, 21, 46, 4),\n",
       "  'pledged': '9994.0',\n",
       "  'state': 'failed',\n",
       "  'backers': '93',\n",
       "  'country': 'US',\n",
       "  'usd pledged': '876.0',\n",
       "  'usd_pledged_real': 9994.0},\n",
       " {'_id': 1247285954,\n",
       "  'name': '2016 Gaming Calendar',\n",
       "  'category': 'Tabletop Games',\n",
       "  'main_category': 'Games',\n",
       "  'currency': 'USD',\n",
       "  'deadline': '2015-07-25',\n",
       "  'goal': '3000.0',\n",
       "  'launched': datetime.datetime(2015, 6, 26, 14, 57, 14),\n",
       "  'pledged': '9994.0',\n",
       "  'state': 'successful',\n",
       "  'backers': '258',\n",
       "  'country': 'US',\n",
       "  'usd pledged': '9994.0',\n",
       "  'usd_pledged_real': 9994.0},\n",
       " {'_id': 796104705,\n",
       "  'name': 'The Girl in The Mountain - Film',\n",
       "  'category': 'Science Fiction',\n",
       "  'main_category': 'Film & Video',\n",
       "  'currency': 'GBP',\n",
       "  'deadline': '2015-10-01',\n",
       "  'goal': '6500.0',\n",
       "  'launched': datetime.datetime(2015, 8, 31, 2, 11, 11),\n",
       "  'pledged': '999.0',\n",
       "  'state': 'failed',\n",
       "  'backers': '12',\n",
       "  'country': 'GB',\n",
       "  'usd pledged': '1537.65168912',\n",
       "  'usd_pledged_real': 1515.1974761875872}]"
      ]
     },
     "execution_count": 7,
     "metadata": {},
     "output_type": "execute_result"
    }
   ],
   "source": [
    "cur = collection.find().sort([(\"pledged\", -1)]).limit(5)\n",
    "list(cur)"
   ]
  },
  {
   "cell_type": "markdown",
   "metadata": {},
   "source": [
    "## Question 2"
   ]
  },
  {
   "cell_type": "code",
   "execution_count": 21,
   "metadata": {},
   "outputs": [
    {
     "data": {
      "text/plain": [
       "53040"
      ]
     },
     "execution_count": 21,
     "metadata": {},
     "output_type": "execute_result"
    }
   ],
   "source": [
    "cur =collection.find({\"state\":\"successful\"})\n",
    "len(list(cur))"
   ]
  },
  {
   "cell_type": "markdown",
   "metadata": {},
   "source": [
    "## Question 3"
   ]
  },
  {
   "cell_type": "code",
   "execution_count": 22,
   "metadata": {
    "collapsed": true
   },
   "outputs": [
    {
     "data": {
      "text/plain": [
       "[{'_id': 'Calendars', 'Project': 112},\n",
       " {'_id': 'Webcomics', 'Project': 259},\n",
       " {'_id': 'Interactive Design', 'Project': 146},\n",
       " {'_id': 'Textiles', 'Project': 105},\n",
       " {'_id': 'Radio & Podcasts', 'Project': 349},\n",
       " {'_id': 'Animals', 'Project': 97},\n",
       " {'_id': 'Festivals', 'Project': 313},\n",
       " {'_id': 'Literary Journals', 'Project': 118},\n",
       " {'_id': 'Chiptune', 'Project': 10},\n",
       " {'_id': 'Kids', 'Project': 109},\n",
       " {'_id': 'Documentary', 'Project': 6498},\n",
       " {'_id': 'Letterpress', 'Project': 24},\n",
       " {'_id': 'Action', 'Project': 282},\n",
       " {'_id': 'Wearables', 'Project': 508},\n",
       " {'_id': 'Periodicals', 'Project': 517},\n",
       " {'_id': 'Embroidery', 'Project': 49},\n",
       " {'_id': 'Technology', 'Project': 2690},\n",
       " {'_id': 'Comics', 'Project': 1931},\n",
       " {'_id': 'Robots', 'Project': 237},\n",
       " {'_id': 'Community Gardens', 'Project': 115},\n",
       " {'_id': \"Farmer's Markets\", 'Project': 175},\n",
       " {'_id': 'Video Games', 'Project': 4799},\n",
       " {'_id': 'Performance Art', 'Project': 855},\n",
       " {'_id': 'Comedy', 'Project': 923},\n",
       " {'_id': 'Dance', 'Project': 901},\n",
       " {'_id': 'Ceramics', 'Project': 128},\n",
       " {'_id': 'Makerspaces', 'Project': 91},\n",
       " {'_id': 'Immersive', 'Project': 131},\n",
       " {'_id': 'Quilts', 'Project': 32},\n",
       " {'_id': 'Romance', 'Project': 74},\n",
       " {'_id': 'Gaming Hardware', 'Project': 178},\n",
       " {'_id': 'Print', 'Project': 288},\n",
       " {'_id': 'Vegan', 'Project': 229},\n",
       " {'_id': 'Animation', 'Project': 1017},\n",
       " {'_id': 'Public Art', 'Project': 1248},\n",
       " {'_id': 'Fiction', 'Project': 3703},\n",
       " {'_id': 'Puzzles', 'Project': 95},\n",
       " {'_id': 'Television', 'Project': 401},\n",
       " {'_id': 'Comic Books', 'Project': 1032},\n",
       " {'_id': 'Zines', 'Project': 144},\n",
       " {'_id': 'Photobooks', 'Project': 608},\n",
       " {'_id': 'Graphic Design', 'Project': 765},\n",
       " {'_id': 'Publishing', 'Project': 2332},\n",
       " {'_id': 'Movie Theaters', 'Project': 90},\n",
       " {'_id': 'Punk', 'Project': 127},\n",
       " {'_id': 'Small Batch', 'Project': 701},\n",
       " {'_id': 'Rock', 'Project': 2707},\n",
       " {'_id': 'Games', 'Project': 1331},\n",
       " {'_id': 'Country & Folk', 'Project': 1790},\n",
       " {'_id': 'Design', 'Project': 1641},\n",
       " {'_id': 'Jewelry', 'Project': 472},\n",
       " {'_id': 'Narrative Film', 'Project': 2099},\n",
       " {'_id': 'Printing', 'Project': 83},\n",
       " {'_id': '3D Printing', 'Project': 271},\n",
       " {'_id': 'Food Trucks', 'Project': 687},\n",
       " {'_id': 'Bacon', 'Project': 78},\n",
       " {'_id': 'R&B', 'Project': 172},\n",
       " {'_id': 'Workshops', 'Project': 59},\n",
       " {'_id': 'Literary Spaces', 'Project': 10},\n",
       " {'_id': 'Translations', 'Project': 76},\n",
       " {'_id': 'Food', 'Project': 4612},\n",
       " {'_id': 'Thrillers', 'Project': 302},\n",
       " {'_id': 'Web', 'Project': 2017},\n",
       " {'_id': 'Musical', 'Project': 367},\n",
       " {'_id': 'Blues', 'Project': 113},\n",
       " {'_id': 'Drama', 'Project': 871},\n",
       " {'_id': 'Apps', 'Project': 2535},\n",
       " {'_id': 'Weaving', 'Project': 38},\n",
       " {'_id': 'Nature', 'Project': 219},\n",
       " {'_id': 'Audio', 'Project': 164},\n",
       " {'_id': 'Graphic Novels', 'Project': 702},\n",
       " {'_id': 'Performances', 'Project': 414},\n",
       " {'_id': 'Drinks', 'Project': 995},\n",
       " {'_id': 'Poetry', 'Project': 532},\n",
       " {'_id': 'Fantasy', 'Project': 132},\n",
       " {'_id': 'Candles', 'Project': 168},\n",
       " {'_id': 'Events', 'Project': 322},\n",
       " {'_id': 'Pop', 'Project': 1302},\n",
       " {'_id': 'Indie Rock', 'Project': 2192},\n",
       " {'_id': 'Faith', 'Project': 439},\n",
       " {'_id': 'Mobile Games', 'Project': 650},\n",
       " {'_id': 'Plays', 'Project': 539},\n",
       " {'_id': 'World Music', 'Project': 850},\n",
       " {'_id': 'Illustration', 'Project': 1263},\n",
       " {'_id': \"Children's Books\", 'Project': 2686},\n",
       " {'_id': 'DIY', 'Project': 480},\n",
       " {'_id': 'Photo', 'Project': 58},\n",
       " {'_id': 'Space Exploration', 'Project': 137},\n",
       " {'_id': 'Places', 'Project': 283},\n",
       " {'_id': 'Couture', 'Project': 108},\n",
       " {'_id': 'Tabletop Games', 'Project': 5581},\n",
       " {'_id': 'Webseries', 'Project': 2316},\n",
       " {'_id': 'Live Games', 'Project': 394},\n",
       " {'_id': 'Footwear', 'Project': 379},\n",
       " {'_id': 'Conceptual Art', 'Project': 393},\n",
       " {'_id': 'Pet Fashion', 'Project': 51},\n",
       " {'_id': 'Crochet', 'Project': 61},\n",
       " {'_id': 'Science Fiction', 'Project': 274},\n",
       " {'_id': 'Fine Art', 'Project': 291},\n",
       " {'_id': 'Film & Video', 'Project': 4003},\n",
       " {'_id': 'DIY Electronics', 'Project': 358},\n",
       " {'_id': 'Mixed Media', 'Project': 1118},\n",
       " {'_id': 'Stationery', 'Project': 90},\n",
       " {'_id': 'Camera Equipment', 'Project': 165},\n",
       " {'_id': 'Metal', 'Project': 274},\n",
       " {'_id': 'Architecture', 'Project': 300},\n",
       " {'_id': 'Journalism', 'Project': 672},\n",
       " {'_id': 'Electronic Music', 'Project': 858},\n",
       " {'_id': 'Painting', 'Project': 1288},\n",
       " {'_id': 'Spaces', 'Project': 331},\n",
       " {'_id': 'Jazz', 'Project': 733},\n",
       " {'_id': 'Playing Cards', 'Project': 963},\n",
       " {'_id': 'Knitting', 'Project': 78},\n",
       " {'_id': 'Typography', 'Project': 44},\n",
       " {'_id': 'Shorts', 'Project': 4857},\n",
       " {'_id': 'Sculpture', 'Project': 737},\n",
       " {'_id': 'Software', 'Project': 1194},\n",
       " {'_id': 'Anthologies', 'Project': 300},\n",
       " {'_id': 'Childrenswear', 'Project': 192},\n",
       " {'_id': 'Glass', 'Project': 51},\n",
       " {'_id': 'Latin', 'Project': 63},\n",
       " {'_id': 'Music Videos', 'Project': 299},\n",
       " {'_id': 'Video', 'Project': 147},\n",
       " {'_id': 'Taxidermy', 'Project': 7},\n",
       " {'_id': 'Fashion', 'Project': 3379},\n",
       " {'_id': 'Installations', 'Project': 178},\n",
       " {'_id': 'Hardware', 'Project': 1431},\n",
       " {'_id': 'Hip-Hop', 'Project': 1555},\n",
       " {'_id': 'Sound', 'Project': 255},\n",
       " {'_id': 'Crafts', 'Project': 1834},\n",
       " {'_id': 'Horror', 'Project': 525},\n",
       " {'_id': 'Restaurants', 'Project': 1089},\n",
       " {'_id': 'Residencies', 'Project': 32},\n",
       " {'_id': 'Cookbooks', 'Project': 217},\n",
       " {'_id': 'Fabrication Tools', 'Project': 96},\n",
       " {'_id': 'Pottery', 'Project': 40},\n",
       " {'_id': 'Digital Art', 'Project': 524},\n",
       " {'_id': 'Gadgets', 'Project': 1210},\n",
       " {'_id': 'Photography', 'Project': 2239},\n",
       " {'_id': 'Young Adult', 'Project': 328},\n",
       " {'_id': 'Nonfiction', 'Project': 3390},\n",
       " {'_id': 'Academic', 'Project': 367},\n",
       " {'_id': 'Farms', 'Project': 482},\n",
       " {'_id': 'Accessories', 'Project': 1204},\n",
       " {'_id': 'Apparel', 'Project': 2827},\n",
       " {'_id': 'Product Design', 'Project': 8886},\n",
       " {'_id': 'Ready-to-wear', 'Project': 332},\n",
       " {'_id': 'Video Art', 'Project': 65},\n",
       " {'_id': 'Music', 'Project': 6229},\n",
       " {'_id': 'People', 'Project': 440},\n",
       " {'_id': 'Woodworking', 'Project': 433},\n",
       " {'_id': 'Classical Music', 'Project': 1064},\n",
       " {'_id': 'Art Books', 'Project': 1065},\n",
       " {'_id': 'Civic Design', 'Project': 130},\n",
       " {'_id': 'Experimental', 'Project': 357},\n",
       " {'_id': 'Theater', 'Project': 2786},\n",
       " {'_id': 'Art', 'Project': 3358},\n",
       " {'_id': 'Family', 'Project': 130},\n",
       " {'_id': 'Flight', 'Project': 158}]"
      ]
     },
     "execution_count": 22,
     "metadata": {},
     "output_type": "execute_result"
    }
   ],
   "source": [
    "cur = collection.aggregate([{\"$group\" : {\"_id\":\"$category\",\"Project\" : {\"$sum\" :1}}}])\n",
    "list(cur)"
   ]
  },
  {
   "cell_type": "markdown",
   "metadata": {},
   "source": [
    "## Question 4"
   ]
  },
  {
   "cell_type": "code",
   "execution_count": 33,
   "metadata": {},
   "outputs": [
    {
     "ename": "SyntaxError",
     "evalue": "closing parenthesis ')' does not match opening parenthesis '[' (<ipython-input-33-b0f22d12ef59>, line 1)",
     "output_type": "error",
     "traceback": [
      "\u001b[0;36m  File \u001b[0;32m\"<ipython-input-33-b0f22d12ef59>\"\u001b[0;36m, line \u001b[0;32m1\u001b[0m\n\u001b[0;31m    cur =collection.find({\"$and\":[{\"launched\":{\"$gt\":\"datetime.datetime(2016, 0, 0, 0, 0, 0)\"}},{\"country\":\"FR\"})\u001b[0m\n\u001b[0m                                                                                                                ^\u001b[0m\n\u001b[0;31mSyntaxError\u001b[0m\u001b[0;31m:\u001b[0m closing parenthesis ')' does not match opening parenthesis '['\n"
     ]
    }
   ],
   "source": [
    "cur =collection.find({\"$and\":[{\"launched\":{\"$gt\":\"datetime.datetime(2016, 0, 0, 0, 0, 0)\"}},{\"country\":\"FR\"})\n",
    "list(cur)"
   ]
  },
  {
   "cell_type": "markdown",
   "metadata": {},
   "source": [
    "## Question 5"
   ]
  },
  {
   "cell_type": "markdown",
   "metadata": {},
   "source": [
    "## Question 6 "
   ]
  },
  {
   "cell_type": "code",
   "execution_count": null,
   "metadata": {},
   "outputs": [],
   "source": []
  }
 ],
 "metadata": {
  "kernelspec": {
   "display_name": "Python 3",
   "language": "python",
   "name": "python3"
  },
  "language_info": {
   "codemirror_mode": {
    "name": "ipython",
    "version": 3
   },
   "file_extension": ".py",
   "mimetype": "text/x-python",
   "name": "python",
   "nbconvert_exporter": "python",
   "pygments_lexer": "ipython3",
   "version": "3.8.8"
  }
 },
 "nbformat": 4,
 "nbformat_minor": 2
}
